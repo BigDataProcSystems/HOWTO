{
 "cells": [
  {
   "cell_type": "markdown",
   "metadata": {},
   "source": [
    "<div style=\"font-size:18pt; padding-top:20px; text-align:center\"><span style=\"font-weight:bold; color:green\">Hadoop </span><b>Configuration on Amazon EMR cluster </b></div><hr>\n",
    "<div style=\"text-align:right;\">Sergei Yu. Papulin <span style=\"font-style: italic;font-weight: bold;\">(papulin_bmstu@mail.ru)</span></div>"
   ]
  },
  {
   "cell_type": "markdown",
   "metadata": {},
   "source": [
    "<a name=\"0\"></a>\n",
    "<div><span style=\"font-size:14pt; font-weight:bold\">Contents</span>\n",
    "    <ol>\n",
    "        <li><a href=\"#1\">Bootstrap Actions</a></li>\n",
    "        <li><a href=\"#2\">Hadoop Configuration</a></li>\n",
    "        <li><a href=\"#3\">EMR Steps</a></li>\n",
    "        <li><a href=\"#4\">Running MapReduce Job on EMR Cluster</a>\n",
    "        <li><a href=\"#5\">Configuration Files on EMR Cluster</a>\n",
    "        <li><a href=\"#6\">References</a></li>\n",
    "    </ol>\n",
    "</div>"
   ]
  },
  {
   "cell_type": "markdown",
   "metadata": {},
   "source": [
    "<p>Launch the cell below to apply a jupyter notebook style</p>"
   ]
  },
  {
   "cell_type": "code",
   "execution_count": 1,
   "metadata": {},
   "outputs": [
    {
     "data": {
      "text/html": [
       "<link href=\"css/style.css\" rel=\"stylesheet\" type=\"text/css\">"
      ],
      "text/plain": [
       "<IPython.core.display.HTML object>"
      ]
     },
     "metadata": {},
     "output_type": "display_data"
    }
   ],
   "source": [
    "%%html\n",
    "<link href=\"css/style.css\" rel=\"stylesheet\" type=\"text/css\">"
   ]
  },
  {
   "cell_type": "markdown",
   "metadata": {},
   "source": [
    "<a name=\"1\"></a>\n",
    "<div style=\"display:table; width:100%; padding-top:10px; padding-bottom:10px; border-bottom:1px solid lightgrey\">\n",
    "    <div style=\"display:table-row\">\n",
    "        <div style=\"display:table-cell; width:80%; font-size:14pt; font-weight:bold\">1. Bootstrap Actions</div>\n",
    "    \t<div style=\"display:table-cell; width:20%; text-align:center; background-color:whitesmoke; border:1px solid lightgrey\"><a href=\"#0\">To Content</a></div>\n",
    "    </div>\n",
    "</div>"
   ]
  },
  {
   "cell_type": "markdown",
   "metadata": {},
   "source": [
    "<div class=\"msg-block msg-ref\">\n",
    "      <div class=\"msg-text-ref\">\n",
    "          <p>\"You can use a bootstrap action to install additional software on your cluster. Bootstrap actions are scripts that are run on the cluster nodes when Amazon EMR launches the cluster\" - <a href=\"http://docs.aws.amazon.com/emr/latest/ManagementGuide/emr-plan-bootstrap.html\">Create Bootstrap Actions to Install Additional Software</a></p>\n",
    "     </div>\n",
    "</div>"
   ]
  },
  {
   "cell_type": "markdown",
   "metadata": {},
   "source": [
    "<p>Create a S3 bucket where scripts will be stored (if needed)</p>"
   ]
  },
  {
   "cell_type": "code",
   "execution_count": null,
   "metadata": {},
   "outputs": [],
   "source": [
    "!aws s3 mb s3://aws-bigdata"
   ]
  },
  {
   "cell_type": "markdown",
   "metadata": {},
   "source": [
    "<p>The script below downloads a compressed json file to the EMR master node, uncompresses and uploads it to S3 storage</p>"
   ]
  },
  {
   "cell_type": "markdown",
   "metadata": {},
   "source": [
    "<p>Bash script for Bootstrap Actions on the master</p>"
   ]
  },
  {
   "cell_type": "code",
   "execution_count": null,
   "metadata": {},
   "outputs": [],
   "source": [
    "# %load /YOUR_PATH/config/download-unzip-s3.sh\n",
    "#!/bin/bash\n",
    "echo \"Check whether it is the master\"\n",
    "\n",
    "cluster_id=$(cat /mnt/var/lib/info/job-flow.json | jq -r \".jobFlowId\")\n",
    "\n",
    "host_private_ip=$(hostname -i)\n",
    "master_private_ip=$(aws emr list-instances \\\n",
    "                        --cluster-id $cluster_id \\\n",
    "                        --instance-group-types \"MASTER\" \\\n",
    "                        --query \"Instances[0].PrivateIpAddress\" \\\n",
    "                        --output text)\n",
    "\n",
    "# Check whether it is the master. If it isn't -> exit\n",
    "if [ $host_private_ip != $master_private_ip ]\n",
    "then\n",
    "    echo \"exit 0\"\n",
    "    exit 0\n",
    "fi\n",
    "\n",
    "echo \"Check whether the file with data exists\"\n",
    "\n",
    "aws s3 ls s3://aws-bigdata/data/reviews_Electronics_5.json\n",
    "\n",
    "# Check whether the file with data exists. If so -> exit\n",
    "if [ $? = 0 ]\n",
    "then\n",
    "    echo \"exit 0\"\n",
    "    exit 0\n",
    "fi\n",
    "\n",
    "\n",
    "wget http://snap.stanford.edu/data/amazon/productGraph/categoryFiles/reviews_Electronics_5.json.gz -P \"/home/hadoop\"\n",
    "gzip -d /home/hadoop/reviews_Electronics_5.json.gz\n",
    "\n",
    "echo \"Check whether the bucket exists\"\n",
    "\n",
    "aws s3 ls \"s3://aws-bigdata\"\n",
    "\n",
    "# Check whether the bucket exists. If it doesn't -> create the one\n",
    "if [ $? = 255 ]\n",
    "then\n",
    "    echo \"Doesn't exist\"\n",
    "    aws s3 mb s3://aws-bigdata\n",
    "fi\n",
    "\n",
    "aws s3api put-object --bucket aws-bigdata --key data/\n",
    "aws s3 cp /home/hadoop/reviews_Electronics_5.json s3://aws-bigdata/data/reviews_Electronics_5.json\n"
   ]
  },
  {
   "cell_type": "markdown",
   "metadata": {},
   "source": [
    "<p>Upload your script with bootstrap actions to the S3 bucket. It will be used later</p>"
   ]
  },
  {
   "cell_type": "code",
   "execution_count": null,
   "metadata": {},
   "outputs": [],
   "source": [
    "!aws s3 cp /YOUR_PATH/config/download-unzip-s3.sh s3://aws-bigdata"
   ]
  },
  {
   "cell_type": "markdown",
   "metadata": {},
   "source": [
    "<a name=\"2\"></a>\n",
    "<div style=\"display:table; width:100%; padding-top:10px; padding-bottom:10px; border-bottom:1px solid lightgrey\">\n",
    "    <div style=\"display:table-row\">\n",
    "        <div style=\"display:table-cell; width:80%; font-size:14pt; font-weight:bold\">2. Hadoop Configuration</div>\n",
    "    \t<div style=\"display:table-cell; width:20%; text-align:center; background-color:whitesmoke; border:1px solid lightgrey\"><a href=\"#0\">To Content</a></div>\n",
    "    </div>\n",
    "</div>"
   ]
  },
  {
   "cell_type": "markdown",
   "metadata": {},
   "source": [
    "<div class=\"msg-block msg-ref\">\n",
    "      <div class=\"msg-text-ref\">\n",
    "          <p>\"You can override the default configurations for applications by supplying a configuration object for applications when you create a cluster\" - <a href=\"http://docs.aws.amazon.com/emr/latest/ReleaseGuide/emr-configure-apps.html\">Configuring Applications</a></p>\n",
    "     </div>\n",
    "</div>"
   ]
  },
  {
   "cell_type": "markdown",
   "metadata": {},
   "source": [
    "<p>Change a default replication factor to 3 using a configuration json file</p>"
   ]
  },
  {
   "cell_type": "code",
   "execution_count": null,
   "metadata": {
    "collapsed": true
   },
   "outputs": [],
   "source": [
    "# %load /YOUR_PATH/config/hdfs-config.json\n",
    "[\n",
    "  {\n",
    "    \"Classification\": \"hdfs-site\",\n",
    "    \"Properties\": {\n",
    "      \"dfs.replication\": \"3\"\n",
    "    }\n",
    "  }\n",
    "]\n"
   ]
  },
  {
   "cell_type": "markdown",
   "metadata": {},
   "source": [
    "<a name=\"3\"></a>\n",
    "<div style=\"display:table; width:100%; padding-top:10px; padding-bottom:10px; border-bottom:1px solid lightgrey\">\n",
    "    <div style=\"display:table-row\">\n",
    "        <div style=\"display:table-cell; width:80%; font-size:14pt; font-weight:bold\">3. EMR Steps</div>\n",
    "    \t<div style=\"display:table-cell; width:20%; text-align:center; background-color:whitesmoke; border:1px solid lightgrey\"><a href=\"#0\">To Content</a></div>\n",
    "    </div>\n",
    "</div>"
   ]
  },
  {
   "cell_type": "markdown",
   "metadata": {},
   "source": [
    "<div class=\"msg-block msg-ref\">\n",
    "      <div class=\"msg-text-ref\">\n",
    "          <p>\"Amazon EMR defines a unit of work called a step, which can contain one or more Hadoop jobs. A step is an instruction that manipulates the data\" - <a href=\"http://docs.aws.amazon.com/emr/latest/DeveloperGuide//emr-steps.html\">Steps</a>, <a href=\"http://docs.aws.amazon.com/emr/latest/ManagementGuide/emr-work-with-steps.html\">Work with Steps Using the CLI and Console</a></p>\n",
    "     </div>\n",
    "</div>"
   ]
  },
  {
   "cell_type": "markdown",
   "metadata": {},
   "source": [
    "<p>One step for calculation of products' average ratings</p>"
   ]
  },
  {
   "cell_type": "code",
   "execution_count": null,
   "metadata": {
    "collapsed": true
   },
   "outputs": [],
   "source": [
    "# %load /YOUR_PATH/config/emr-jar-step.json\n",
    "[\n",
    "  {\n",
    "     \"Name\": \"Average Product Rating Step\",\n",
    "     \"Type\": \"CUSTOM_JAR\",\n",
    "     \"ActionOnFailure\": \"TERMINATE_CLUSTER\",\n",
    "     \"Jar\": \"s3://aws-bigdata/ProdAvgRatingApp.jar\",\n",
    "     \"Args\": [\n",
    "         \"s3://aws-bigdata/data/reviews_Electronics_5.json\",\n",
    "         \"s3://aws-bigdata/output_avg\"]\n",
    "  }\n",
    "]\n"
   ]
  },
  {
   "cell_type": "markdown",
   "metadata": {},
   "source": [
    "<a name=\"4\"></a>\n",
    "<div style=\"display:table; width:100%; padding-top:10px; padding-bottom:10px; border-bottom:1px solid lightgrey\">\n",
    "    <div style=\"display:table-row\">\n",
    "        <div style=\"display:table-cell; width:80%; font-size:14pt; font-weight:bold\">4. Running MapReduce Job on EMR Cluster</div>\n",
    "    \t<div style=\"display:table-cell; width:20%; text-align:center; background-color:whitesmoke; border:1px solid lightgrey\"><a href=\"#0\">To Content</a></div>\n",
    "    </div>\n",
    "</div>"
   ]
  },
  {
   "cell_type": "markdown",
   "metadata": {},
   "source": [
    "<p>Display all subnets and use one of them (created in previous classes) for cluster creation later in this section. If there are no available subnets, create one</p>"
   ]
  },
  {
   "cell_type": "code",
   "execution_count": null,
   "metadata": {},
   "outputs": [],
   "source": [
    "!aws ec2 describe-subnets"
   ]
  },
  {
   "cell_type": "markdown",
   "metadata": {},
   "source": [
    "<p><b>Run an EMR cluster and a MapReduce job WITHOUT STEPS</b></p>"
   ]
  },
  {
   "cell_type": "markdown",
   "metadata": {},
   "source": [
    "<p>Create an EMR cluster with bootstrap actions and configuration. Specify your subnet</p>"
   ]
  },
  {
   "cell_type": "code",
   "execution_count": null,
   "metadata": {},
   "outputs": [],
   "source": [
    "%%bash\n",
    "aws emr create-cluster \\\n",
    "    --name \"Hadoop_Cluster\" \\\n",
    "    --release-label emr-5.8.0 \\\n",
    "    --applications Name=Hadoop Name=Zeppelin \\\n",
    "    --log-uri s3://aws-emr-logs/logs/ \\\n",
    "    --service-role emr-default-role \\\n",
    "    --instance-groups InstanceGroupType=MASTER,InstanceCount=1,InstanceType=m4.large InstanceGroupType=CORE,InstanceCount=3,InstanceType=m4.large \\\n",
    "    --ec2-attributes InstanceProfile=emr-default-ec2-role,KeyName=BigData_Keys,SubnetId=YOUR_SUBNET \\\n",
    "    --bootstrap-action Path=s3://aws-bigdata/download-unzip-s3.sh \\\n",
    "    --configurations file:///YOUR_PATH/config/hdfs-config.json"
   ]
  },
  {
   "cell_type": "markdown",
   "metadata": {},
   "source": [
    "<p>Display a public ip of the master</p>"
   ]
  },
  {
   "cell_type": "code",
   "execution_count": null,
   "metadata": {},
   "outputs": [],
   "source": [
    "!aws emr list-instances \\\n",
    "        --cluster-id YOUR_CLUSTER_ID \\\n",
    "        --instance-group-types \"MASTER\" \\\n",
    "        --query \"Instances[0].PublicIpAddress\" \\\n",
    "        --output text"
   ]
  },
  {
   "cell_type": "markdown",
   "metadata": {},
   "source": [
    "<p>Copy an jar file on the master</p>"
   ]
  },
  {
   "cell_type": "markdown",
   "metadata": {},
   "source": [
    "<p><i>Option 1. From local PC via SSH</i></p>"
   ]
  },
  {
   "cell_type": "code",
   "execution_count": null,
   "metadata": {
    "collapsed": true
   },
   "outputs": [],
   "source": [
    "sudo scp -i \"/YOUR_PATH/bigdata_keys.pem\" /YOUR_PATH/ProdAvgRatingApp.jar hadoop@MASTER_PUBLIC_IP:/home/hadoop"
   ]
  },
  {
   "cell_type": "markdown",
   "metadata": {},
   "source": [
    "<p><i>Option 2. Connect to the master and get the jar file from S3</i></p>"
   ]
  },
  {
   "cell_type": "code",
   "execution_count": null,
   "metadata": {
    "collapsed": true
   },
   "outputs": [],
   "source": [
    "sudo ssh -i /YOUR_PATH/bigdata_keys.pem hadoop@MASTER_PUBLIC_IP"
   ]
  },
  {
   "cell_type": "code",
   "execution_count": null,
   "metadata": {
    "collapsed": true
   },
   "outputs": [],
   "source": [
    "aws s3 cp s3://aws-bigdata/ProdAvgRatingApp.jar /home/hadoop"
   ]
  },
  {
   "cell_type": "markdown",
   "metadata": {},
   "source": [
    "<p>Copy a file with data from S3 to the HDFS</p>"
   ]
  },
  {
   "cell_type": "code",
   "execution_count": null,
   "metadata": {
    "collapsed": true
   },
   "outputs": [],
   "source": [
    "hadoop distcp s3://aws-bigdata/data/reviews_Electronics_5.json hdfs:///user/hadoop"
   ]
  },
  {
   "cell_type": "markdown",
   "metadata": {},
   "source": [
    "<p>Check that the file was copied successfully</p>"
   ]
  },
  {
   "cell_type": "code",
   "execution_count": null,
   "metadata": {
    "collapsed": true
   },
   "outputs": [],
   "source": [
    "hdfs dfs -tail /user/hadoop/reviews_Electronics_5.json"
   ]
  },
  {
   "cell_type": "markdown",
   "metadata": {},
   "source": [
    "<p>Display how blocks of the file are distributed</p>"
   ]
  },
  {
   "cell_type": "code",
   "execution_count": null,
   "metadata": {
    "collapsed": true
   },
   "outputs": [],
   "source": [
    "hdfs fsck /user/hadoop/reviews_Electronics_5.json -files -blocks -locations"
   ]
  },
  {
   "cell_type": "markdown",
   "metadata": {},
   "source": [
    "<p>Run the jar file with two reducers</p>"
   ]
  },
  {
   "cell_type": "code",
   "execution_count": null,
   "metadata": {
    "collapsed": true
   },
   "outputs": [],
   "source": [
    "hadoop jar /home/hadoop/ProdAvgRatingApp.jar \\\n",
    "            -D mapreduce.job.reduces=2 \\\n",
    "            hdfs:///user/hadoop/reviews_Electronics_5.json \\\n",
    "            hdfs:///user/hadoop/output_ratings"
   ]
  },
  {
   "cell_type": "markdown",
   "metadata": {},
   "source": [
    "<p>Display a result</p>"
   ]
  },
  {
   "cell_type": "code",
   "execution_count": null,
   "metadata": {
    "collapsed": true
   },
   "outputs": [],
   "source": [
    "hdfs dfs -tail /user/hadoop/output_ratings/part-r-00000"
   ]
  },
  {
   "cell_type": "markdown",
   "metadata": {},
   "source": [
    "<div class=\"msg-block msg-warning\">\n",
    "  <div class=\"msg-text-warn\"><p>Remove the directory with output files (if needed). To re-run the job, you must remove the directory</p>\n",
    "            <p class=\"code-block code-font\">hdfs <span class=\"code-key\">dfs</span> -rm -r /user/hadoop/output_ratings</p></div>\n",
    "</div>"
   ]
  },
  {
   "cell_type": "markdown",
   "metadata": {},
   "source": [
    "<p>Copy the output files to S3</p>"
   ]
  },
  {
   "cell_type": "code",
   "execution_count": null,
   "metadata": {
    "collapsed": true
   },
   "outputs": [],
   "source": [
    "# TODO"
   ]
  },
  {
   "cell_type": "markdown",
   "metadata": {},
   "source": [
    "<p><b>Hadoop Web Dashboard</b></p>"
   ]
  },
  {
   "cell_type": "markdown",
   "metadata": {},
   "source": [
    "<p>Set up an SSH tunnel using dynamic port forwarding with the AWS CLI</p>"
   ]
  },
  {
   "cell_type": "code",
   "execution_count": null,
   "metadata": {
    "collapsed": true
   },
   "outputs": [],
   "source": [
    "sudo aws emr socks --cluster-id YOUR_CLUSTER_ID --key-pair-file /YOUR_PATH/bigdata_keys.pem"
   ]
  },
  {
   "cell_type": "markdown",
   "metadata": {},
   "source": [
    "<div class=\"msg-block msg-ref\">\n",
    "      <div class=\"msg-text-ref\">\n",
    "          <p>To connect to hadoop web dashboards, see the following guides: <br>\n",
    "          <a href=\"http://docs.aws.amazon.com/emr/latest/ManagementGuide/emr-ssh-tunnel.html\">Part 1: Set Up an SSH Tunnel to the Master Node Using Dynamic Port Forwarding</a><br>\n",
    "          <a href=\"http://docs.aws.amazon.com/emr/latest/ManagementGuide/emr-connect-master-node-proxy.html\">Part 2: Configure Proxy Settings to View Websites Hosted on the Master Node</a>\n",
    "          </p>\n",
    "     </div>\n",
    "</div>"
   ]
  },
  {
   "cell_type": "markdown",
   "metadata": {},
   "source": [
    "<p>Private a DNS name of the master to connect through a browser</p>"
   ]
  },
  {
   "cell_type": "code",
   "execution_count": null,
   "metadata": {},
   "outputs": [],
   "source": [
    "!aws emr list-instances \\\n",
    "        --cluster-id YOUR_CLUSTER_ID \\\n",
    "        --instance-group-types \"MASTER\" \\\n",
    "        --query \"Instances[0].PrivateDnsName\" \\\n",
    "        --output text"
   ]
  },
  {
   "cell_type": "markdown",
   "metadata": {},
   "source": [
    "<p>Ports to access web dashboards</p>"
   ]
  },
  {
   "cell_type": "markdown",
   "metadata": {},
   "source": [
    "<p class=\"code-block code-font\">HDFS NameNode port:<span class=\"code-key\"> 50070</span></p>\n",
    "<p class=\"code-block code-font\">HDFS ResourceManager port:<span class=\"code-key\"> 8088</span></p>"
   ]
  },
  {
   "cell_type": "markdown",
   "metadata": {},
   "source": [
    "<p><b>ResourceManager and NodeManager Dashboards</b></p>"
   ]
  },
  {
   "cell_type": "markdown",
   "metadata": {},
   "source": [
    "<p>Nodes</p>\n",
    "<img src=\"img/nodes.png\"/>"
   ]
  },
  {
   "cell_type": "markdown",
   "metadata": {},
   "source": [
    "<p>Scheduler</p>\n",
    "<img src=\"img/sch.png\"/>"
   ]
  },
  {
   "cell_type": "markdown",
   "metadata": {},
   "source": [
    "<p>Application</p>\n",
    "<img src=\"img/app.png\"/>"
   ]
  },
  {
   "cell_type": "markdown",
   "metadata": {},
   "source": [
    "<p>Job</p>\n",
    "<img src=\"img/job.png\"/>"
   ]
  },
  {
   "cell_type": "markdown",
   "metadata": {},
   "source": [
    "<p>Map Tasks</p>\n",
    "<img src=\"img/maps.png\"/>"
   ]
  },
  {
   "cell_type": "markdown",
   "metadata": {},
   "source": [
    "<p>Map Task</p>\n",
    "<img src=\"img/map_task.png\"/>"
   ]
  },
  {
   "cell_type": "markdown",
   "metadata": {},
   "source": [
    "<p>Container</p>\n",
    "<img src=\"img/container.png\"/>"
   ]
  },
  {
   "cell_type": "markdown",
   "metadata": {},
   "source": [
    "<p>NodeManager</p>\n",
    "<img src=\"img/node_manager.png\"/>"
   ]
  },
  {
   "cell_type": "markdown",
   "metadata": {},
   "source": [
    "<div class=\"msg-block msg-imp\">\n",
    "  <div class=\"msg-text-imp\"><p>\n",
    "      Don't forget to terminate the cluster, otherwise your free subscription runs out quickly. A rule of thumb is that you terminate the cluster after all job is completed. There are two options to do this:<br>\n",
    "      1) <span class=\"code-font\">EMR -> Select Cluster -> Terminate</span><br>\n",
    "      2) AWS CLI: <span class=\"code-font\">aws emr terminate-clusters --cluster-ids j-xxxxx</span>\n",
    "      \n",
    "  </p></div>\n",
    "</div>"
   ]
  },
  {
   "cell_type": "markdown",
   "metadata": {},
   "source": [
    "<p>Terminate the cluster</p>"
   ]
  },
  {
   "cell_type": "code",
   "execution_count": null,
   "metadata": {
    "collapsed": true
   },
   "outputs": [],
   "source": [
    "!aws emr terminate-clusters --cluster-ids YOUR_CLUSTER_ID"
   ]
  },
  {
   "cell_type": "markdown",
   "metadata": {},
   "source": [
    "<p><b>Run an EMR cluster and a MapReduce job WITH STEPS</b></p>"
   ]
  },
  {
   "cell_type": "code",
   "execution_count": null,
   "metadata": {},
   "outputs": [],
   "source": [
    "%%bash\n",
    "aws emr create-cluster \\\n",
    "    --name \"Hadoop_Cluster\" \\\n",
    "    --release-label emr-5.8.0 \\\n",
    "    --applications Name=Hadoop Name=Zeppelin \\\n",
    "    --log-uri s3://aws-emr-logs/logs/ \\\n",
    "    --service-role emr-default-role \\\n",
    "    --instance-groups InstanceGroupType=MASTER,InstanceCount=1,InstanceType=m4.large InstanceGroupType=CORE,InstanceCount=3,InstanceType=m4.large \\\n",
    "    --ec2-attributes InstanceProfile=emr-default-ec2-role,KeyName=BigData_Keys,SubnetId=YOUR_SUBNET \\\n",
    "    --bootstrap-action Path=s3://aws-bigdata/download-unzip-s3.sh \\\n",
    "    --configurations file:///YOUR_PATH/config/hdfs-config.json \\\n",
    "    --steps file:///YOUR_PATH/config/emr-jar-step.json"
   ]
  },
  {
   "cell_type": "markdown",
   "metadata": {},
   "source": [
    "<div class=\"msg-block msg-info\">\n",
    "  <div class=\"msg-text-info\"><p>Your can use the <span class=\"code-font\">--auto-terminate</span> option to automatically terminate a cluster after completing all the steps</p></div>\n",
    "</div>"
   ]
  },
  {
   "cell_type": "markdown",
   "metadata": {},
   "source": [
    "<p>Display a result from AWS S3 to your terminal</p>"
   ]
  },
  {
   "cell_type": "code",
   "execution_count": null,
   "metadata": {
    "collapsed": true
   },
   "outputs": [],
   "source": [
    "sudo aws s3 cp --quiet s3://aws-bigdata/output_avg/part-r-00000 /dev/stdout"
   ]
  },
  {
   "cell_type": "markdown",
   "metadata": {
    "collapsed": true
   },
   "source": [
    "<div class=\"msg-block msg-imp\">\n",
    "  <div class=\"msg-text-imp\"><p>\n",
    "      Don't forget to terminate the cluster, otherwise your free subscription runs out quickly. A rule of thumb is that you terminate the cluster after all job is completed. There are two options to do this:<br>\n",
    "      1) <span class=\"code-font\">EMR -> Select Cluster -> Terminate</span><br>\n",
    "      2) AWS CLI: <span class=\"code-font\">aws emr terminate-clusters --cluster-ids j-xxxxx</span>\n",
    "  </p></div>\n",
    "</div>"
   ]
  },
  {
   "cell_type": "markdown",
   "metadata": {},
   "source": [
    "<a name=\"5\"></a>\n",
    "<div style=\"display:table; width:100%; padding-top:10px; padding-bottom:10px; border-bottom:1px solid lightgrey\">\n",
    "    <div style=\"display:table-row\">\n",
    "        <div style=\"display:table-cell; width:80%; font-size:14pt; font-weight:bold\">5. Configuration Files on EMR Cluster</div>\n",
    "    \t<div style=\"display:table-cell; width:20%; text-align:center; background-color:whitesmoke; border:1px solid lightgrey\"><a href=\"#0\">To Content</a></div>\n",
    "    </div>\n",
    "</div>"
   ]
  },
  {
   "cell_type": "markdown",
   "metadata": {},
   "source": [
    "<p><span class=\"code-font\">core-site.xml</span>, <span class=\"code-font\">hdfs-site.xml</span>, <span class=\"code-font\">yarn-site.xml</span>, <span class=\"code-font\">mapred-site.xml</span></p>"
   ]
  },
  {
   "cell_type": "code",
   "execution_count": null,
   "metadata": {
    "collapsed": true
   },
   "outputs": [],
   "source": [
    "ls /etc/hadoop/conf.empty"
   ]
  },
  {
   "cell_type": "markdown",
   "metadata": {},
   "source": [
    "<p>Environment Variables</p>"
   ]
  },
  {
   "cell_type": "code",
   "execution_count": null,
   "metadata": {
    "collapsed": true
   },
   "outputs": [],
   "source": [
    "ls /etc/default"
   ]
  },
  {
   "cell_type": "markdown",
   "metadata": {},
   "source": [
    "<p>Daemons</p>"
   ]
  },
  {
   "cell_type": "markdown",
   "metadata": {},
   "source": [
    "<div class=\"msg-block msg-ref\">\n",
    "      <div class=\"msg-text-ref\">\n",
    "          <p><a href=\"https://aws.amazon.com/ru/premiumsupport/knowledge-center/restart-service-emr/\">How do I restart a service in Amazon EMR?</a>\n",
    "          </p>\n",
    "     </div>\n",
    "</div>"
   ]
  },
  {
   "cell_type": "code",
   "execution_count": null,
   "metadata": {
    "collapsed": true
   },
   "outputs": [],
   "source": [
    "initctl list"
   ]
  },
  {
   "cell_type": "markdown",
   "metadata": {},
   "source": [
    "<p>Example with ResourceManager</p>"
   ]
  },
  {
   "cell_type": "code",
   "execution_count": null,
   "metadata": {
    "collapsed": true
   },
   "outputs": [],
   "source": [
    "sudo start | stop | restart  hadoop-yarn-resourcemanager"
   ]
  },
  {
   "cell_type": "markdown",
   "metadata": {},
   "source": [
    "<a name=\"6\"></a>\n",
    "<div style=\"display:table; width:100%; padding-top:10px; padding-bottom:10px; border-bottom:1px solid lightgrey\">\n",
    "    <div style=\"display:table-row\">\n",
    "        <div style=\"display:table-cell; width:80%; font-size:14pt; font-weight:bold\">6. References</div>\n",
    "    \t<div style=\"display:table-cell; width:20%; text-align:center; background-color:whitesmoke; border:1px solid lightgrey\"><a href=\"#0\">To content</a></div>\n",
    "    </div>\n",
    "</div>"
   ]
  },
  {
   "cell_type": "markdown",
   "metadata": {
    "collapsed": true
   },
   "source": [
    "<a href=\"https://hadoop.apache.org/docs/r2.7.0/hadoop-project-dist/hadoop-common/ClusterSetup.html\">Hadoop Cluster Setup</a><br>\n",
    "<a href=\"https://mapr.com/blog/best-practices-yarn-resource-management/\">Best Practices for YARN Resource Management</a>"
   ]
  },
  {
   "cell_type": "code",
   "execution_count": null,
   "metadata": {},
   "outputs": [],
   "source": []
  }
 ],
 "metadata": {
  "kernelspec": {
   "display_name": "Python 3",
   "language": "python",
   "name": "python3"
  },
  "language_info": {
   "codemirror_mode": {
    "name": "ipython",
    "version": 3
   },
   "file_extension": ".py",
   "mimetype": "text/x-python",
   "name": "python",
   "nbconvert_exporter": "python",
   "pygments_lexer": "ipython3",
   "version": "3.5.2"
  }
 },
 "nbformat": 4,
 "nbformat_minor": 2
}
