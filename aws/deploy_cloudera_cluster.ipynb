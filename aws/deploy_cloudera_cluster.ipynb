{
 "cells": [
  {
   "cell_type": "markdown",
   "metadata": {},
   "source": [
    "<div style=\"font-size:18pt; padding-top:20px; text-align:center\"><b>BigData Cluster on </b> <span style=\"font-weight:bold; color:green\">AWS</span></div><hr>\n",
    "<div style=\"text-align:right;\">Sergei Yu. Papulin <span style=\"font-style: italic;font-weight: bold;\">(papulin_bmstu@mail.ru, papulin_hse@mail.ru)</span></div>"
   ]
  },
  {
   "cell_type": "markdown",
   "metadata": {},
   "source": [
    "<a name=\"0\"></a>\n",
    "<div><span style=\"font-size:14pt; font-weight:bold\">Content</span>\n",
    "    <ol>\n",
    "        <li><a href=\"#1\">Quick Start Local Cluster</a></li>\n",
    "        <li><a href=\"#2\">Virtual Private Cloud for Cluster</a></li>\n",
    "        <li><a href=\"#3\">Elastic MapReduce (EMR)</a></li>\n",
    "        <li><a href=\"#4\">Cloudera Cluster on AWS</a>\n",
    "            <ol style = \"list-style-type:lower-alpha\">\n",
    "                <li><a href=\"#4a\">Running AWS Instances</a></li>\n",
    "                <li><a href=\"#4b\">Deploying Cluster using Cloudera Manager</a></li>\n",
    "                <li><a href=\"#4c\">Running User Code</a></li>\n",
    "                <li><a href=\"#4d\">Rerun and Resource Release</a></li>\n",
    "            </ol>\n",
    "        </li>\n",
    "        <li><a href=\"#5\">References</a></li>\n",
    "    </ol>\n",
    "</div>"
   ]
  },
  {
   "cell_type": "markdown",
   "metadata": {},
   "source": [
    "<p>Launch the cell below to apply a jupyter notebook style</p>"
   ]
  },
  {
   "cell_type": "code",
   "execution_count": 1,
   "metadata": {
    "collapsed": false
   },
   "outputs": [
    {
     "data": {
      "text/html": [
       "<link href=\"css/style.css\" rel=\"stylesheet\" type=\"text/css\">"
      ],
      "text/plain": [
       "<IPython.core.display.HTML object>"
      ]
     },
     "metadata": {},
     "output_type": "display_data"
    }
   ],
   "source": [
    "%%html\n",
    "<link href=\"css/style.css\" rel=\"stylesheet\" type=\"text/css\">"
   ]
  },
  {
   "cell_type": "markdown",
   "metadata": {},
   "source": [
    "<a name=\"1\"></a>\n",
    "<div style=\"display:table; width:100%; padding-top:10px; padding-bottom:10px; border-bottom:1px solid lightgrey\">\n",
    "    <div style=\"display:table-row\">\n",
    "        <div style=\"display:table-cell; width:80%; font-size:14pt; font-weight:bold\">1. Quick Start Local Cluster</div>\n",
    "    \t<div style=\"display:table-cell; width:20%; text-align:center; background-color:whitesmoke; border:1px solid lightgrey\"><a href=\"#0\">To content</a></div>\n",
    "    </div>\n",
    "</div>"
   ]
  },
  {
   "cell_type": "markdown",
   "metadata": {},
   "source": [
    "<p>Install one of available distributions (Cloudera QuickStart VM by default)</p>"
   ]
  },
  {
   "cell_type": "code",
   "execution_count": null,
   "metadata": {
    "collapsed": true
   },
   "outputs": [],
   "source": [
    "# TODO: Add HDP and MapR"
   ]
  },
  {
   "cell_type": "markdown",
   "metadata": {},
   "source": [
    "<p>Create VirtualBox VM port forwarding for SSH</p>"
   ]
  },
  {
   "cell_type": "code",
   "execution_count": null,
   "metadata": {
    "collapsed": true
   },
   "outputs": [],
   "source": [
    "# VM -> Settings -> Network -> Advanced -> Port Forwarding -> Host: 127.0.0.1 Port: 2222, Guest: Port 22"
   ]
  },
  {
   "cell_type": "markdown",
   "metadata": {},
   "source": [
    "<p>Connect to the local Cloudera VM via SSH</p>"
   ]
  },
  {
   "cell_type": "code",
   "execution_count": null,
   "metadata": {
    "collapsed": true
   },
   "outputs": [],
   "source": [
    "sudo ssh cloudera@127.0.0.1 -p 2222"
   ]
  },
  {
   "cell_type": "markdown",
   "metadata": {},
   "source": [
    "<div class=\"msg-block msg-info\">\n",
    "  <div class=\"msg-text-info\"><p>Password of the Cloudera VM: <span class=\"code-font\">cloudera</span></p></div>\n",
    "</div>"
   ]
  },
  {
   "cell_type": "markdown",
   "metadata": {},
   "source": [
    "<p>Use port forwarding from your local host to the local VM to access a HDFS dashboard</p>"
   ]
  },
  {
   "cell_type": "code",
   "execution_count": null,
   "metadata": {
    "collapsed": true
   },
   "outputs": [],
   "source": [
    "sudo ssh -N -f -L 9961:quickstart.cloudera:50070 cloudera@127.0.0.1 -p 2222"
   ]
  },
  {
   "cell_type": "markdown",
   "metadata": {},
   "source": [
    "<p>Open a web brower to see a HDFS dashboard</p>"
   ]
  },
  {
   "cell_type": "markdown",
   "metadata": {
    "collapsed": true
   },
   "source": [
    "<div class=\"code-block code-font\"><a href=\"http://localhost:9961\">http://localhost:9961</a></div>"
   ]
  },
  {
   "cell_type": "markdown",
   "metadata": {},
   "source": [
    "<p>For Hue</p>"
   ]
  },
  {
   "cell_type": "code",
   "execution_count": null,
   "metadata": {
    "collapsed": true
   },
   "outputs": [],
   "source": [
    "sudo ssh -N -f -L 9962:quickstart.cloudera:8888 cloudera@127.0.0.1 -p 2222"
   ]
  },
  {
   "cell_type": "markdown",
   "metadata": {},
   "source": [
    "<div class=\"code-block code-font\"><a href=\"http://localhost:9962\">http://localhost:9962</a></div>"
   ]
  },
  {
   "cell_type": "markdown",
   "metadata": {},
   "source": [
    "<a name=\"2\"></a>\n",
    "<div style=\"display:table; width:100%; padding-top:10px; padding-bottom:10px; border-bottom:1px solid lightgrey\">\n",
    "    <div style=\"display:table-row\">\n",
    "        <div style=\"display:table-cell; width:80%; font-size:14pt; font-weight:bold\">2. Virtual Private Cloud for Cluster</div>\n",
    "    \t<div style=\"display:table-cell; width:20%; text-align:center; background-color:whitesmoke; border:1px solid lightgrey\"><a href=\"#0\">To content</a></div>\n",
    "    </div>\n",
    "</div>"
   ]
  },
  {
   "cell_type": "markdown",
   "metadata": {},
   "source": [
    "<p><b>Python Script</b></p>"
   ]
  },
  {
   "cell_type": "code",
   "execution_count": null,
   "metadata": {
    "collapsed": true
   },
   "outputs": [],
   "source": [
    "import subprocess"
   ]
  },
  {
   "cell_type": "code",
   "execution_count": null,
   "metadata": {
    "collapsed": true
   },
   "outputs": [],
   "source": [
    "def run_cmd_get_id(cmd):\n",
    "    output = subprocess.run(cmd, stdout=subprocess.PIPE, stderr=subprocess.PIPE, \n",
    "                            shell=True, universal_newlines=True)\n",
    "    # print(output.stderr)\n",
    "    return output.stdout.strip('\"\\n')"
   ]
  },
  {
   "cell_type": "code",
   "execution_count": null,
   "metadata": {
    "collapsed": false
   },
   "outputs": [],
   "source": [
    "# Create a VPC with cidr 10.0.1.0/24\n",
    "vpc_id = \\\n",
    "run_cmd_get_id('aws ec2 create-vpc \\\n",
    "                        --cidr-block \"10.0.1.0/24\" \\\n",
    "                        --instance-tenancy \"default\" \\\n",
    "                        --query \"Vpc.VpcId\"')\n",
    "\n",
    "run_cmd_get_id('aws ec2 modify-vpc-attribute --vpc-id ' + vpc_id + ' --enable-dns-hostnames')\n",
    "\n",
    "# Create a subnet 10.0.1.0/28\n",
    "subnet_id = \\\n",
    "run_cmd_get_id('aws ec2 create-subnet \\\n",
    "                        --vpc-id ' + vpc_id + ' \\\n",
    "                        --cidr-block \"10.0.1.0/28\" \\\n",
    "                        --query \"Subnet.SubnetId\"')\n",
    "\n",
    "# Create an Internet gateway\n",
    "gateway_id = \\\n",
    "run_cmd_get_id('aws ec2 create-internet-gateway \\\n",
    "                        --query \"InternetGateway.InternetGatewayId\"')\n",
    "\n",
    "# Attach the Internet gateway to the VPC\n",
    "run_cmd_get_id('aws ec2 attach-internet-gateway \\\n",
    "                        --vpc-id ' + vpc_id + ' \\\n",
    "                        --internet-gateway-id ' + gateway_id)\n",
    "\n",
    "# Get id of default route table of the VPC\n",
    "rtb_id = \\\n",
    "run_cmd_get_id('aws ec2 describe-route-tables \\\n",
    "                        --filters \"Name=vpc-id,Values=' + vpc_id + '\" \\\n",
    "                        --query \"RouteTables[0].RouteTableId\"')\n",
    "\n",
    "run_cmd_get_id('aws ec2 create-route \\\n",
    "                        --route-table-id ' + rtb_id + ' \\\n",
    "                        --destination-cidr-block \"0.0.0.0/0\" \\\n",
    "                        --gateway-id ' + gateway_id)\n",
    "\n",
    "secgroup_id = \\\n",
    "run_cmd_get_id('aws ec2 describe-security-groups \\\n",
    "                        --filters \"Name=vpc-id,Values=' + vpc_id + '\" \\\n",
    "                        --query \"SecurityGroups[0].GroupId\"')\n",
    "\n",
    "run_cmd_get_id('aws ec2 authorize-security-group-ingress \\\n",
    "                        --group-id ' + secgroup_id + ' \\\n",
    "                        --protocol tcp \\\n",
    "                        --port 22 \\\n",
    "                        --cidr \"0.0.0.0/0\"')"
   ]
  },
  {
   "cell_type": "code",
   "execution_count": null,
   "metadata": {
    "collapsed": false
   },
   "outputs": [],
   "source": [
    "print(\"VCP ID: %s\\nSubnet ID: %s\\nGateway ID: %s\\nRouteTable ID: %s\\nSecurity Group ID: %s\" % \n",
    "      (vpc_id, subnet_id, gateway_id, rtb_id, secgroup_id))"
   ]
  },
  {
   "cell_type": "markdown",
   "metadata": {},
   "source": [
    "<p><b>boto3</b> - AWS SDK for Python</p>"
   ]
  },
  {
   "cell_type": "code",
   "execution_count": null,
   "metadata": {
    "collapsed": true
   },
   "outputs": [],
   "source": [
    "# TODO"
   ]
  },
  {
   "cell_type": "markdown",
   "metadata": {},
   "source": [
    "<p><b>Bash Script</b></p>"
   ]
  },
  {
   "cell_type": "code",
   "execution_count": null,
   "metadata": {
    "collapsed": true
   },
   "outputs": [],
   "source": [
    "# TODO"
   ]
  },
  {
   "cell_type": "markdown",
   "metadata": {},
   "source": [
    "<a name=\"3\"></a>\n",
    "<div style=\"display:table; width:100%; padding-top:10px; padding-bottom:10px; border-bottom:1px solid lightgrey\">\n",
    "    <div style=\"display:table-row\">\n",
    "        <div style=\"display:table-cell; width:80%; font-size:14pt; font-weight:bold\">3. Elastic MapReduce (EMR)</div>\n",
    "    \t<div style=\"display:table-cell; width:20%; text-align:center; background-color:whitesmoke; border:1px solid lightgrey\"><a href=\"#0\">To content</a></div>\n",
    "    </div>\n",
    "</div>"
   ]
  },
  {
   "cell_type": "markdown",
   "metadata": {},
   "source": [
    "<div class=\"msg-block msg-info\">\n",
    "      <div class=\"msg-text-info\">\n",
    "          <p>\n",
    "          <a href=\"http://docs.aws.amazon.com/emr/latest/ManagementGuide/emr-what-is-emr.html\">What is Amazon EMR?</a><br>\n",
    "              <a href=\"http://docs.aws.amazon.com/cli/latest/reference/emr/index.html#cli-aws-emr\">CLI EMR</a><br>\n",
    "<a href=\"http://docs.aws.amazon.com/cli/latest/reference/ec2/index.html#cli-aws-ec2\">CLI EC2</a></p>\n",
    "     </div>\n",
    "</div>"
   ]
  },
  {
   "cell_type": "markdown",
   "metadata": {},
   "source": [
    "<div class=\"msg-block msg-warning\">\n",
    "  <div class=\"msg-text-warn\"><p>Before run the commands below: <br>\n",
    "  1) set permission to manipulate EMR in your IAM user (see <a href=\"http://docs.aws.amazon.com/emr/latest/ManagementGuide/emr-iam-roles-creatingroles.html\">this</a>)<br>\n",
    "  2) check a list of instance types that can be used to launch an EMR cluster (see <a href=\"http://docs.aws.amazon.com/emr/latest/ManagementGuide/emr-supported-instance-types.html\">this</a>)<br>\n",
    "  3) create a new VPC or use an existing one (see <a href=\"http://docs.aws.amazon.com/emr/latest/ManagementGuide/emr-plan-vpc-subnet.html#emr-vpc-launching-job-flows\">this</a> and the previous class)<br>\n",
    "  4) create a new key pair or use an existing one (see <a href=\"http://docs.aws.amazon.com/AWSEC2/latest/UserGuide/ec2-key-pairs.html\">this</a> and the previous class)\n",
    "  </p></div>\n",
    "</div>"
   ]
  },
  {
   "cell_type": "code",
   "execution_count": null,
   "metadata": {
    "collapsed": true
   },
   "outputs": [],
   "source": [
    "#Create S3 bucket and object lab1/logs/"
   ]
  },
  {
   "cell_type": "markdown",
   "metadata": {},
   "source": [
    "<p><b>Create roles to launch an EMR Cluster</b> (create once and use them many times)</p>"
   ]
  },
  {
   "cell_type": "markdown",
   "metadata": {},
   "source": [
    "<p><b>Option 1.</b> Create roles through the AWS CLI</p>"
   ]
  },
  {
   "cell_type": "markdown",
   "metadata": {},
   "source": [
    "<p>Attach policy to your user for creating required roles</p>"
   ]
  },
  {
   "cell_type": "markdown",
   "metadata": {},
   "source": [
    "IAM -> Users -> Your_User -> Add inline policy -> Policy name: ROLE_ACCESS, Policy document:"
   ]
  },
  {
   "cell_type": "code",
   "execution_count": null,
   "metadata": {
    "collapsed": true
   },
   "outputs": [],
   "source": [
    "{\n",
    "    \"Version\": \"2012-10-17\",\n",
    "    \"Statement\": [\n",
    "        {\n",
    "            \"Effect\": \"Allow\",\n",
    "            \"Action\": [\n",
    "                \"iam:GetRole\",\n",
    "                \"iam:CreateRole\",\n",
    "                \"iam:AttachRolePolicy\",\n",
    "                \"iam:GetInstanceProfile\",\n",
    "                \"iam:CreateInstanceProfile\",\n",
    "                \"iam:AddRoleToInstanceProfile\"\n",
    "            ],\n",
    "            \"Resource\": [\n",
    "                \"*\"\n",
    "            ]\n",
    "        }\n",
    "    ]\n",
    "}"
   ]
  },
  {
   "cell_type": "markdown",
   "metadata": {},
   "source": [
    "<p>Create default roles for an EMR Cluster. There are three roles: <span class=\"code-font\">EMR_DefaultRole</span>, <span class=\"code-font\">EMR_EC2_DefaultRole</span>, and <span class=\"code-font\">EMR_AutoScaling_DefaultRole</span></p>"
   ]
  },
  {
   "cell_type": "code",
   "execution_count": null,
   "metadata": {
    "collapsed": true
   },
   "outputs": [],
   "source": [
    "!aws emr create-default-roles"
   ]
  },
  {
   "cell_type": "markdown",
   "metadata": {},
   "source": [
    "<p><b>Option 2.</b> Create roles through the IAM Role Console</p>"
   ]
  },
  {
   "cell_type": "code",
   "execution_count": null,
   "metadata": {
    "collapsed": true
   },
   "outputs": [],
   "source": [
    "IAM -> Roles -> Create Role -> EMR -> \"EMR\" (emr-default-role) and \"EMR Role for EC2\" (emr-default-ec2-role)"
   ]
  },
  {
   "cell_type": "markdown",
   "metadata": {},
   "source": [
    "<p><b>Launch an EMR Cluster</b></p>"
   ]
  },
  {
   "cell_type": "code",
   "execution_count": null,
   "metadata": {
    "collapsed": false
   },
   "outputs": [],
   "source": [
    "%%bash -s $subnet_id\n",
    "aws emr create-cluster \\\n",
    "    --name \"Hadoop_Cluster\" \\\n",
    "    --release-label emr-5.0.0 \\\n",
    "    --applications Name=Hadoop Name=Zeppelin \\\n",
    "    --log-uri s3://aws-mr-jobs-labs/class_2/logs/ \\\n",
    "    --service-role emr-default-role \\\n",
    "    --instance-groups InstanceGroupType=MASTER,InstanceCount=1,InstanceType=m4.large InstanceGroupType=CORE,InstanceCount=2,InstanceType=m4.large \\\n",
    "    --ec2-attributes InstanceProfile=emr-default-ec2-role,KeyName=BigData_Keys,SubnetId=$1"
   ]
  },
  {
   "cell_type": "markdown",
   "metadata": {},
   "source": [
    "<div class=\"msg-block msg-imp\">\n",
    "  <div class=\"msg-text-imp\"><p>\n",
    "      Don't forget to terminate the cluster, otherwise your free subscription runs out quickly. A rule of thumb is that you terminate the cluster after all job is completed. There are two options to do this:<br>\n",
    "      1) <span class=\"code-font\">EMR -> Select Cluster -> Terminate</span><br>\n",
    "      2) AWS CLI: <span class=\"code-font\">aws emr terminate-clusters --cluster-ids j-xxxxx</span>\n",
    "      \n",
    "  </p></div>\n",
    "</div>"
   ]
  },
  {
   "cell_type": "markdown",
   "metadata": {},
   "source": [
    "<p>Show all clusters</p>"
   ]
  },
  {
   "cell_type": "code",
   "execution_count": null,
   "metadata": {
    "collapsed": false
   },
   "outputs": [],
   "source": [
    "%%bash\n",
    "aws emr list-clusters"
   ]
  },
  {
   "cell_type": "markdown",
   "metadata": {},
   "source": [
    "<p>List active clusters</p>"
   ]
  },
  {
   "cell_type": "code",
   "execution_count": null,
   "metadata": {
    "collapsed": false
   },
   "outputs": [],
   "source": [
    "%%bash\n",
    "aws emr list-clusters --active"
   ]
  },
  {
   "cell_type": "markdown",
   "metadata": {},
   "source": [
    "<p>Display a detailed description of a cluster by its id</p>"
   ]
  },
  {
   "cell_type": "code",
   "execution_count": null,
   "metadata": {
    "collapsed": false
   },
   "outputs": [],
   "source": [
    "%%bash\n",
    "aws emr describe-cluster --cluster-id \"CLUSTER_ID\""
   ]
  },
  {
   "cell_type": "markdown",
   "metadata": {},
   "source": [
    "<p>Print out only a public DNS of the Master</p>"
   ]
  },
  {
   "cell_type": "code",
   "execution_count": null,
   "metadata": {
    "collapsed": true
   },
   "outputs": [],
   "source": [
    "%%bash\n",
    "aws emr describe-cluster --cluster-id \"CLUSTER_ID\" --query \"Cluster.MasterPublicDnsName\""
   ]
  },
  {
   "cell_type": "markdown",
   "metadata": {},
   "source": [
    "<p>Display a public ip and dns of all instances of your EMR cluster</p>"
   ]
  },
  {
   "cell_type": "code",
   "execution_count": null,
   "metadata": {
    "collapsed": true
   },
   "outputs": [],
   "source": [
    "%%bash\n",
    "aws emr list-instances \\\n",
    "        --cluster-id \"CLUSTER_ID\" \\\n",
    "        --query \"Instances[*].[PublicIpAddress,PublicDnsName]\" \\\n",
    "        --output text"
   ]
  },
  {
   "cell_type": "markdown",
   "metadata": {},
   "source": [
    "<p>Connect to an EMR Master Node using SSH</p>"
   ]
  },
  {
   "cell_type": "markdown",
   "metadata": {},
   "source": [
    "<div class=\"msg-block msg-warning\">\n",
    "  <div class=\"msg-text-warn\"><p>\n",
    "      Allow access to an EMR Master Node via SSH by setting an inbound rule in its security group\n",
    "  </p></div>\n",
    "</div>"
   ]
  },
  {
   "cell_type": "code",
   "execution_count": null,
   "metadata": {
    "collapsed": true
   },
   "outputs": [],
   "source": [
    "sudo ssh -i /PATH/TO/.ssh/bigdata_keys.pem hadoop@PUBLIC_IP_MASTER_EMR_CLUSTER"
   ]
  },
  {
   "cell_type": "markdown",
   "metadata": {},
   "source": [
    "<p>Access to HDFS</p>"
   ]
  },
  {
   "cell_type": "code",
   "execution_count": null,
   "metadata": {
    "collapsed": true
   },
   "outputs": [],
   "source": [
    "sudo ssh -i /PATH/TO/.ssh/bigdata_keys.pem -N -f -L 7740:localhost:50070  hadoop@PUBLIC_IP_MASTER_EMR_CLUSTER"
   ]
  },
  {
   "cell_type": "markdown",
   "metadata": {},
   "source": [
    "<div class=\"code-block code-font\"><a href=\"http://localhost:7740\">http://localhost:7740</a></div>"
   ]
  },
  {
   "cell_type": "markdown",
   "metadata": {},
   "source": [
    "<p>Access to Zeppelin</p>"
   ]
  },
  {
   "cell_type": "code",
   "execution_count": null,
   "metadata": {
    "collapsed": true
   },
   "outputs": [],
   "source": [
    "sudo ssh -i /PATH/TO/.ssh/bigdata_keys.pem -N -f -L 7741:localhost:8890  hadoop@PUBLIC_IP_MASTER_EMR_CLUSTER"
   ]
  },
  {
   "cell_type": "markdown",
   "metadata": {},
   "source": [
    "<div class=\"code-block code-font\"><a href=\"http://localhost:7741\">http://localhost:7741</a></div>"
   ]
  },
  {
   "cell_type": "markdown",
   "metadata": {},
   "source": [
    "<div class=\"msg-block msg-info\">\n",
    "      <div class=\"msg-text-info\">\n",
    "          <p>Web interfaces of other EMR embedded services are <a href=\"http://docs.aws.amazon.com/emr/latest/ManagementGuide/emr-web-interfaces.html\">here</a>\n",
    "          </p>\n",
    "     </div>\n",
    "</div>"
   ]
  },
  {
   "cell_type": "markdown",
   "metadata": {},
   "source": [
    "<p>Terminate the cluster by its ID</p>"
   ]
  },
  {
   "cell_type": "code",
   "execution_count": null,
   "metadata": {
    "collapsed": true
   },
   "outputs": [],
   "source": [
    "%%bash\n",
    "aws emr terminate-clusters --cluster-ids j-xxxxx"
   ]
  },
  {
   "cell_type": "markdown",
   "metadata": {},
   "source": [
    "<div class=\"msg-block msg-imp\">\n",
    "  <div class=\"msg-text-imp\"><p>\n",
    "      Don't forget to terminate the cluster, otherwise your free subscription runs out quickly. A rule of thumb is that you terminate the cluster after all job is completed. There are two options to do this:<br>\n",
    "      1) <span class=\"code-font\">EMR -> Select Cluster -> Terminate</span><br>\n",
    "      2) AWS CLI: <span class=\"code-font\">aws emr terminate-clusters --cluster-ids j-xxxxx</span>\n",
    "      \n",
    "  </p></div>\n",
    "</div>"
   ]
  },
  {
   "cell_type": "markdown",
   "metadata": {},
   "source": [
    "<a name=\"4\"></a>\n",
    "<div style=\"display:table; width:100%; padding-top:10px; padding-bottom:10px; border-bottom:1px solid lightgrey\">\n",
    "    <div style=\"display:table-row\">\n",
    "        <div style=\"display:table-cell; width:80%; font-size:14pt; font-weight:bold\">4. Cloudera Cluster on AWS</div>\n",
    "    \t<div style=\"display:table-cell; width:20%; text-align:center; background-color:whitesmoke; border:1px solid lightgrey\"><a href=\"#0\">To content</a></div>\n",
    "    </div>\n",
    "</div>"
   ]
  },
  {
   "cell_type": "markdown",
   "metadata": {},
   "source": [
    "<a name=\"4a\"></a>\n",
    "<div style=\"display:table; width:100%\">\n",
    "    <div style=\"display:table-row\">\n",
    "        <div style=\"display:table-cell; width:80%; font-style:italic; font-weight:bold; font-size:12pt\">\n",
    "            a. Running AWS Instances\n",
    "        </div>\n",
    "        <div style=\"display:table-cell; border:1px solid lightgrey; width:20%\">\n",
    "            <div style=\"display:table-cell; width:10%; text-align:center; background-color:whitesmoke;\">\n",
    "                <a href=\"#4a\">Back</a>\n",
    "            </div>\n",
    "            <div style=\"display:table-cell; width:10%; text-align:center;\">\n",
    "                <a href=\"#4c\">Next</a>\n",
    "            </div>\n",
    "        </div>\n",
    "    </div>\n",
    "</div>"
   ]
  },
  {
   "cell_type": "markdown",
   "metadata": {},
   "source": [
    "<p>Create three AWS instances: <span class=\"code-font\">Master, Slave1 and Slave2</span></p>"
   ]
  },
  {
   "cell_type": "code",
   "execution_count": null,
   "metadata": {
    "collapsed": false
   },
   "outputs": [],
   "source": [
    "vm_name_list = [\"Master\", \"Slave1\", \"Slave2\"]\n",
    "vm_id_list = list(); vm_vol_id_list = list()\n",
    "\n",
    "for indx, vm_name in enumerate(vm_name_list):\n",
    "    vm_id = \\\n",
    "    run_cmd_get_id('aws ec2 run-instances \\\n",
    "                        --image-id \"ami-2944b450\" \\\n",
    "                        --count 1 \\\n",
    "                        --instance-type \"m4.xlarge\" \\\n",
    "                        --key-name \"BigData_Keys\" \\\n",
    "                        --subnet-id ' + subnet_id + ' \\\n",
    "                        --security-group-ids ' + secgroup_id + ' \\\n",
    "                        --instance-initiated-shutdown-behavior \"stop\" \\\n",
    "                        --private-ip-address \"10.0.1.' + str(indx + 5) + '\" \\\n",
    "                        --associate-public-ip-address \\\n",
    "                        --block-device-mappings \\'[{\"DeviceName\": \"/dev/sda1\", \"Ebs\": { \"DeleteOnTermination\": false, \"VolumeSize\": 64, \"VolumeType\": \"gp2\" }}]\\' \\\n",
    "                        --tag-specifications \"ResourceType=instance,Tags=[{Key=Name,Value=' + vm_name + '}]\" \\\n",
    "                        --query \"Instances[0].InstanceId\"')\n",
    "    vm_vol_id = \\\n",
    "    run_cmd_get_id('aws ec2 describe-volumes \\\n",
    "                        --filters \"Name=attachment.instance-id,Values=' + vm_id + '\" \\\n",
    "                        --query \"Volumes[0].VolumeId\"')\n",
    "    \n",
    "    vm_vol_id_list.append(vm_vol_id); vm_vol_id = \"\"\n",
    "    vm_id_list.append(vm_id); vm_id = \"\""
   ]
  },
  {
   "cell_type": "markdown",
   "metadata": {},
   "source": [
    "<a name=\"4b\"></a>\n",
    "<div style=\"display:table; width:100%\">\n",
    "    <div style=\"display:table-row\">\n",
    "        <div style=\"display:table-cell; width:80%; font-style:italic; font-weight:bold; font-size:12pt\">\n",
    "            b. Deploying Cluster using Cloudera Manager\n",
    "        </div>\n",
    "        <div style=\"display:table-cell; border:1px solid lightgrey; width:20%\">\n",
    "            <div style=\"display:table-cell; width:10%; text-align:center; background-color:whitesmoke;\">\n",
    "                <a href=\"#4a\">Back</a>\n",
    "            </div>\n",
    "            <div style=\"display:table-cell; width:10%; text-align:center;\">\n",
    "                <a href=\"#4c\">Next</a>\n",
    "            </div>\n",
    "        </div>\n",
    "    </div>\n",
    "</div>"
   ]
  },
  {
   "cell_type": "markdown",
   "metadata": {},
   "source": [
    "<p><b>Preparation</b></p>"
   ]
  },
  {
   "cell_type": "markdown",
   "metadata": {},
   "source": [
    "<div class=\"msg-block msg-info\">\n",
    "      <div class=\"msg-text-info\">\n",
    "          <p>Run all commands in this section on all three AWS instances\n",
    "          </p>\n",
    "     </div>\n",
    "</div>"
   ]
  },
  {
   "cell_type": "markdown",
   "metadata": {},
   "source": [
    "<p>Get a public ip of a running instance</p>"
   ]
  },
  {
   "cell_type": "code",
   "execution_count": null,
   "metadata": {
    "collapsed": false
   },
   "outputs": [],
   "source": [
    "!aws ec2 describe-instances \\\n",
    "    --filters \"Name=tag:Name,Values=Master\" \\\n",
    "    --query \"Reservations[0].Instances[0].PublicIpAddress\" \\\n",
    "    --output text"
   ]
  },
  {
   "cell_type": "markdown",
   "metadata": {},
   "source": [
    "<p>Connect to the Master VM via SSH</p>"
   ]
  },
  {
   "cell_type": "code",
   "execution_count": null,
   "metadata": {
    "collapsed": true
   },
   "outputs": [],
   "source": [
    "sudo ssh -i /home/sergo/.ssh/bigdata_keys.pem ubuntu@PUBLIC_IP_MASTER"
   ]
  },
  {
   "cell_type": "markdown",
   "metadata": {},
   "source": [
    "<p>Check a current Ubuntu version</p>"
   ]
  },
  {
   "cell_type": "code",
   "execution_count": null,
   "metadata": {
    "collapsed": true
   },
   "outputs": [],
   "source": [
    "lsb_release -a"
   ]
  },
  {
   "cell_type": "markdown",
   "metadata": {},
   "source": [
    "<p>On the remote node ping other VMs within the same subnet</p> "
   ]
  },
  {
   "cell_type": "code",
   "execution_count": null,
   "metadata": {
    "collapsed": true
   },
   "outputs": [],
   "source": [
    "ping 10.0.1.6"
   ]
  },
  {
   "cell_type": "code",
   "execution_count": null,
   "metadata": {
    "collapsed": true
   },
   "outputs": [],
   "source": [
    "ping 10.0.1.7"
   ]
  },
  {
   "cell_type": "code",
   "execution_count": null,
   "metadata": {
    "collapsed": true
   },
   "outputs": [],
   "source": [
    "ping ip-10-0-1-6"
   ]
  },
  {
   "cell_type": "code",
   "execution_count": null,
   "metadata": {
    "collapsed": true
   },
   "outputs": [],
   "source": [
    "#sudo nano /etc/hosts"
   ]
  },
  {
   "cell_type": "markdown",
   "metadata": {},
   "source": [
    "<p>Encrypt the word \"cloudera\"</p>"
   ]
  },
  {
   "cell_type": "code",
   "execution_count": null,
   "metadata": {
    "collapsed": true
   },
   "outputs": [],
   "source": [
    "openssl passwd -crypt cloudera"
   ]
  },
  {
   "cell_type": "markdown",
   "metadata": {},
   "source": [
    "<p>Create a new user with sudo rights</p>"
   ]
  },
  {
   "cell_type": "code",
   "execution_count": null,
   "metadata": {
    "collapsed": true
   },
   "outputs": [],
   "source": [
    "sudo useradd -m -p lCxREFCR/yroc -s /bin/bash cloudera\n",
    "sudo usermod -G sudo cloudera\n",
    "#sudo deluser --remove-home cloudera"
   ]
  },
  {
   "cell_type": "code",
   "execution_count": null,
   "metadata": {
    "collapsed": true
   },
   "outputs": [],
   "source": [
    "sudo nano /etc/sudoers\n",
    "%sudo ALL=(ALL:ALL) NOPASSWD:ALL"
   ]
  },
  {
   "cell_type": "markdown",
   "metadata": {},
   "source": [
    "<p>Set the option \"PasswordAuthentication\" to \"yes\" in config_sshd</p>"
   ]
  },
  {
   "cell_type": "code",
   "execution_count": null,
   "metadata": {
    "collapsed": true
   },
   "outputs": [],
   "source": [
    "sudo nano /etc/ssh/sshd_config\n",
    "PasswordAuthentication yes"
   ]
  },
  {
   "cell_type": "code",
   "execution_count": null,
   "metadata": {
    "collapsed": true
   },
   "outputs": [],
   "source": [
    "sudo service ssh restart"
   ]
  },
  {
   "cell_type": "markdown",
   "metadata": {},
   "source": [
    "<p>Configure Swappiness</p>"
   ]
  },
  {
   "cell_type": "code",
   "execution_count": null,
   "metadata": {
    "collapsed": true
   },
   "outputs": [],
   "source": [
    "sudo sysctl vm.swappiness=10"
   ]
  },
  {
   "cell_type": "code",
   "execution_count": null,
   "metadata": {
    "collapsed": true
   },
   "outputs": [],
   "source": [
    "sudo nano /etc/sysctl.conf\n",
    "\n",
    "# Swappiness\n",
    "vm.swappiness=10"
   ]
  },
  {
   "cell_type": "code",
   "execution_count": null,
   "metadata": {
    "collapsed": true
   },
   "outputs": [],
   "source": [
    "# To kill port forwarding \n",
    "# ps aux | grep ssh\n",
    "# sudo kill 10424"
   ]
  },
  {
   "cell_type": "code",
   "execution_count": null,
   "metadata": {
    "collapsed": true
   },
   "outputs": [],
   "source": [
    "# TODO: create script run at launch of VMs"
   ]
  },
  {
   "cell_type": "markdown",
   "metadata": {},
   "source": [
    "<p><b>Run Cloudera Installer</b></p>"
   ]
  },
  {
   "cell_type": "markdown",
   "metadata": {},
   "source": [
    "<div class=\"msg-block msg-info\">\n",
    "      <div class=\"msg-text-info\">\n",
    "          <p>Run all commands in this section on the master VM\n",
    "          </p>\n",
    "     </div>\n",
    "</div>"
   ]
  },
  {
   "cell_type": "markdown",
   "metadata": {},
   "source": [
    "<p>Create a directory for the Cloudera Manager Installer on the Master node</p>"
   ]
  },
  {
   "cell_type": "code",
   "execution_count": null,
   "metadata": {
    "collapsed": true
   },
   "outputs": [],
   "source": [
    "sudo mkdir /home/ubuntu/cloudera-installer"
   ]
  },
  {
   "cell_type": "markdown",
   "metadata": {},
   "source": [
    "<p>Download to the master node the Cloudera Manager Installer</p>"
   ]
  },
  {
   "cell_type": "code",
   "execution_count": null,
   "metadata": {
    "collapsed": false
   },
   "outputs": [],
   "source": [
    "sudo wget https://archive.cloudera.com/cm5/installer/latest/cloudera-manager-installer.bin \\\n",
    "    -P /home/ubuntu/cloudera-installer "
   ]
  },
  {
   "cell_type": "markdown",
   "metadata": {},
   "source": [
    "<p>Go to the installer directory</p>"
   ]
  },
  {
   "cell_type": "code",
   "execution_count": null,
   "metadata": {
    "collapsed": true
   },
   "outputs": [],
   "source": [
    "cd /home/ubuntu/cloudera-installer"
   ]
  },
  {
   "cell_type": "markdown",
   "metadata": {},
   "source": [
    "<p>Set executable permission</p>"
   ]
  },
  {
   "cell_type": "code",
   "execution_count": null,
   "metadata": {
    "collapsed": true
   },
   "outputs": [],
   "source": [
    "sudo chmod u+x cloudera-manager-installer.bin"
   ]
  },
  {
   "cell_type": "markdown",
   "metadata": {},
   "source": [
    "<p>Run the installer</p>"
   ]
  },
  {
   "cell_type": "code",
   "execution_count": null,
   "metadata": {
    "collapsed": true
   },
   "outputs": [],
   "source": [
    "sudo ./cloudera-manager-installer.bin"
   ]
  },
  {
   "cell_type": "code",
   "execution_count": null,
   "metadata": {
    "collapsed": true
   },
   "outputs": [],
   "source": [
    "Cloudear Manager\n",
    "Next->Next->Yes->Next->Yes"
   ]
  },
  {
   "cell_type": "code",
   "execution_count": null,
   "metadata": {
    "collapsed": true
   },
   "outputs": [],
   "source": [
    "sudo tail -f /var/log/cloudera-scm-server/cloudera-scm-server.log "
   ]
  },
  {
   "cell_type": "markdown",
   "metadata": {},
   "source": [
    "<p><b>Installation</b></p>"
   ]
  },
  {
   "cell_type": "markdown",
   "metadata": {},
   "source": [
    "<p>Set SSH port forwarding of your local port 8861 to the port 7180 of the Master VM</p>"
   ]
  },
  {
   "cell_type": "code",
   "execution_count": null,
   "metadata": {
    "collapsed": true
   },
   "outputs": [],
   "source": [
    "sudo ssh -i /home/sergo/.ssh/bigdata_keys.pem -N -f -L 8861:ip-10-0-1-5:7180 ubuntu@PUBLIC_IP_MASTER"
   ]
  },
  {
   "cell_type": "markdown",
   "metadata": {},
   "source": [
    "<p>Point your web browser to http://localhost:7180</p>"
   ]
  },
  {
   "cell_type": "markdown",
   "metadata": {},
   "source": [
    "<p>Log in to Cloudera Manager: admin, admin</p>"
   ]
  },
  {
   "cell_type": "markdown",
   "metadata": {},
   "source": [
    "<p>Select the Cloudera Express Option</p>"
   ]
  },
  {
   "cell_type": "markdown",
   "metadata": {},
   "source": [
    "<p>Enter the following pattern</p>"
   ]
  },
  {
   "cell_type": "code",
   "execution_count": null,
   "metadata": {
    "collapsed": true
   },
   "outputs": [],
   "source": [
    "10.0.1.[5-7]"
   ]
  },
  {
   "cell_type": "markdown",
   "metadata": {},
   "source": [
    "<p>Select all VMs</p>"
   ]
  },
  {
   "cell_type": "markdown",
   "metadata": {},
   "source": [
    "<p>Select Repository -> Choose Method -> Use Parcels -> More Options -> Add the Anaconda parcel</p>"
   ]
  },
  {
   "cell_type": "code",
   "execution_count": null,
   "metadata": {
    "collapsed": true
   },
   "outputs": [],
   "source": [
    "https://repo.continuum.io/pkgs/misc/parcels/"
   ]
  },
  {
   "cell_type": "markdown",
   "metadata": {},
   "source": [
    "<p>Additional Parcels -> Anaconda and Kafka</p>"
   ]
  },
  {
   "cell_type": "markdown",
   "metadata": {},
   "source": [
    "<p>Pick Install Oracle Java SE Development Kit (JDK)</p>"
   ]
  },
  {
   "cell_type": "markdown",
   "metadata": {},
   "source": [
    "<p>Skip a Single User Mode configuration</p>"
   ]
  },
  {
   "cell_type": "markdown",
   "metadata": {},
   "source": [
    "<p>Provide SSH login credentials -> Login To All Hosts As: cloudera -> password: cloudera</p>"
   ]
  },
  {
   "cell_type": "markdown",
   "metadata": {},
   "source": [
    "<p>Installing... Finished</p>"
   ]
  },
  {
   "cell_type": "markdown",
   "metadata": {},
   "source": [
    "<p>Choose a combination of services to install -> Core with Spark</p>"
   ]
  },
  {
   "cell_type": "code",
   "execution_count": null,
   "metadata": {
    "collapsed": true
   },
   "outputs": [],
   "source": [
    "sudo tail --lines 100 /var/log/cloudera-scm-agent/cloudera-scm-agent.log"
   ]
  },
  {
   "cell_type": "markdown",
   "metadata": {},
   "source": [
    "<a name=\"4c\"></a>\n",
    "<div style=\"display:table; width:100%\">\n",
    "    <div style=\"display:table-row\">\n",
    "        <div style=\"display:table-cell; width:80%; font-style:italic; font-weight:bold; font-size:12pt\">\n",
    "            c. Running User Code\n",
    "        </div>\n",
    "        <div style=\"display:table-cell; border:1px solid lightgrey; width:20%\">\n",
    "            <div style=\"display:table-cell; width:10%; text-align:center; background-color:whitesmoke;\">\n",
    "                <a href=\"#4b\">Back</a>\n",
    "            </div>\n",
    "            <div style=\"display:table-cell; width:10%; text-align:center;\">\n",
    "                <a href=\"#4d\">Next</a>\n",
    "            </div>\n",
    "        </div>\n",
    "    </div>\n",
    "</div>"
   ]
  },
  {
   "cell_type": "markdown",
   "metadata": {},
   "source": [
    "<p><b>HDFS dashboard</b></p>"
   ]
  },
  {
   "cell_type": "markdown",
   "metadata": {},
   "source": [
    "<p>On the local Node</p>"
   ]
  },
  {
   "cell_type": "code",
   "execution_count": null,
   "metadata": {
    "collapsed": true
   },
   "outputs": [],
   "source": [
    "sudo ssh -i /home/sergo/.ssh/bigdata_keys.pem -N -f -L 8840:ip-10-0-1-5:50070 ubuntu@PUBLIC_IP_MASTER"
   ]
  },
  {
   "cell_type": "markdown",
   "metadata": {},
   "source": [
    "<div class=\"code-block code-font\"><a href=\"http://localhost:8840\">http://localhost:8840</a></div>"
   ]
  },
  {
   "cell_type": "markdown",
   "metadata": {},
   "source": [
    "<div class=\"msg-block msg-info\">\n",
    "      <div class=\"msg-text-info\">\n",
    "          <p>To see ports of other services, click on this <a href=\"https://www.cloudera.com/documentation/enterprise/5-2-x/topics/cdh_ig_ports_cdh5.html\">reference</a></p>\n",
    "     </div>\n",
    "</div>"
   ]
  },
  {
   "cell_type": "markdown",
   "metadata": {},
   "source": [
    "<p><b>Jupyter Notebook</b></p>"
   ]
  },
  {
   "cell_type": "markdown",
   "metadata": {},
   "source": [
    "<p>On the remote Master Node</p>"
   ]
  },
  {
   "cell_type": "code",
   "execution_count": null,
   "metadata": {
    "collapsed": true
   },
   "outputs": [],
   "source": [
    "export PATH=\"/opt/cloudera/parcels/Anaconda-4.2.0/bin:$PATH\"\n",
    "jupyter notebook --port 8880 --no-browser"
   ]
  },
  {
   "cell_type": "markdown",
   "metadata": {},
   "source": [
    "<p>On the local Node</p>"
   ]
  },
  {
   "cell_type": "code",
   "execution_count": null,
   "metadata": {
    "collapsed": true
   },
   "outputs": [],
   "source": [
    "sudo ssh -i /home/sergo/.ssh/bigdata_keys.pem -N -f -L 8861:localhost:8880 ubuntu@PUBLIC_IP_MASTER"
   ]
  },
  {
   "cell_type": "markdown",
   "metadata": {},
   "source": [
    "<div class=\"code-block code-font\"><a href=\"http://localhost:8861\">http://localhost:8861</a></div>"
   ]
  },
  {
   "cell_type": "markdown",
   "metadata": {},
   "source": [
    "<p><b>Pyspark</b></p>"
   ]
  },
  {
   "cell_type": "markdown",
   "metadata": {},
   "source": [
    "<p>On the remote Master Node</p>"
   ]
  },
  {
   "cell_type": "code",
   "execution_count": null,
   "metadata": {
    "collapsed": true
   },
   "outputs": [],
   "source": [
    "#sudo -u hdfs hadoop fs -chmod 777 /user/spark\n",
    "#sudo -u spark hadoop fs -chmod 777 /user/spark/applicationHistory\n",
    "#sudo -u hdfs hadoop fs -chmod 777 /user"
   ]
  },
  {
   "cell_type": "code",
   "execution_count": null,
   "metadata": {
    "collapsed": true
   },
   "outputs": [],
   "source": [
    "sudo pyspark --master yarn-clien"
   ]
  },
  {
   "cell_type": "markdown",
   "metadata": {},
   "source": [
    "<div class=\"msg-block msg-imp\">\n",
    "  <div class=\"msg-text-imp\"><p>\n",
    "      Don't forget to terminate the cluster after the work is completed\n",
    "  </p></div>\n",
    "</div>"
   ]
  },
  {
   "cell_type": "markdown",
   "metadata": {},
   "source": [
    "<a name=\"4d\"></a>\n",
    "<div style=\"display:table; width:100%\">\n",
    "    <div style=\"display:table-row\">\n",
    "        <div style=\"display:table-cell; width:80%; font-style:italic; font-weight:bold; font-size:12pt\">\n",
    "            d. Rerun and Resource Release\n",
    "        </div>\n",
    "        <div style=\"display:table-cell; border:1px solid lightgrey; width:20%\">\n",
    "            <div style=\"display:table-cell; width:10%; text-align:center; background-color:whitesmoke;\">\n",
    "                <a href=\"#4c\">Back</a>\n",
    "            </div>\n",
    "            <div style=\"display:table-cell; width:10%; text-align:center;\">\n",
    "                <a href=\"#5\">Next</a>\n",
    "            </div>\n",
    "        </div>\n",
    "    </div>\n",
    "</div>"
   ]
  },
  {
   "cell_type": "markdown",
   "metadata": {},
   "source": [
    "<p>Terminate the VMs</p>"
   ]
  },
  {
   "cell_type": "code",
   "execution_count": null,
   "metadata": {
    "collapsed": false
   },
   "outputs": [],
   "source": [
    "run_cmd_get_id('aws ec2 terminate-instances --instance-ids ' + \" \".join(vm_id_list))"
   ]
  },
  {
   "cell_type": "code",
   "execution_count": null,
   "metadata": {
    "collapsed": true
   },
   "outputs": [],
   "source": [
    "vm_id_list = list()"
   ]
  },
  {
   "cell_type": "markdown",
   "metadata": {},
   "source": [
    "<p>Rerun using the existing EBS Volumes</p>"
   ]
  },
  {
   "cell_type": "code",
   "execution_count": null,
   "metadata": {
    "collapsed": true
   },
   "outputs": [],
   "source": [
    "# TODO"
   ]
  },
  {
   "cell_type": "markdown",
   "metadata": {},
   "source": [
    "<p>Delete the EBS Volumes</p>"
   ]
  },
  {
   "cell_type": "code",
   "execution_count": null,
   "metadata": {
    "collapsed": true
   },
   "outputs": [],
   "source": [
    "run_cmd_get_id('delete-volume --volume-id ' + \" \".join(vm_vol_id_list))"
   ]
  },
  {
   "cell_type": "code",
   "execution_count": null,
   "metadata": {
    "collapsed": true
   },
   "outputs": [],
   "source": [
    "vm_vol_id_list = list()"
   ]
  },
  {
   "cell_type": "markdown",
   "metadata": {},
   "source": [
    "<p>Delete the VPC through the AWS console along with your security group, route table, gateway, subnet</p>"
   ]
  },
  {
   "cell_type": "code",
   "execution_count": null,
   "metadata": {
    "collapsed": true
   },
   "outputs": [],
   "source": [
    "vpc_id = \"\"; subnet_id = \"\"; gateway_id = \"\"; rtb_id = \"\"; secgroup_id = \"\""
   ]
  },
  {
   "cell_type": "markdown",
   "metadata": {},
   "source": [
    "<a name=\"4\"></a>\n",
    "<div style=\"display:table; width:100%; padding-top:10px; padding-bottom:10px; border-bottom:1px solid lightgrey\">\n",
    "    <div style=\"display:table-row\">\n",
    "        <div style=\"display:table-cell; width:80%; font-size:14pt; font-weight:bold\">4. References</div>\n",
    "    \t<div style=\"display:table-cell; width:20%; text-align:center; background-color:whitesmoke; border:1px solid lightgrey\"><a href=\"#0\">To content</a></div>\n",
    "    </div>\n",
    "</div>"
   ]
  },
  {
   "cell_type": "code",
   "execution_count": null,
   "metadata": {
    "collapsed": true
   },
   "outputs": [],
   "source": []
  }
 ],
 "metadata": {
  "kernelspec": {
   "display_name": "Python 3",
   "language": "python",
   "name": "python3"
  },
  "language_info": {
   "codemirror_mode": {
    "name": "ipython",
    "version": 3
   },
   "file_extension": ".py",
   "mimetype": "text/x-python",
   "name": "python",
   "nbconvert_exporter": "python",
   "pygments_lexer": "ipython3",
   "version": "3.5.2"
  }
 },
 "nbformat": 4,
 "nbformat_minor": 2
}
